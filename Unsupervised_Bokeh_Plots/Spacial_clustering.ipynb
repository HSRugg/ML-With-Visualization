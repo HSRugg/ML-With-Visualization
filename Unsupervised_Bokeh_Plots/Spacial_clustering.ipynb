{
 "cells": [
  {
   "cell_type": "code",
   "execution_count": 15,
   "metadata": {
    "collapsed": false
   },
   "outputs": [],
   "source": [
    "\n",
    "''' Present an interactive function explorer with slider widgets.\n",
    "Scrub the sliders to change the properties of the ``sin`` curve, or\n",
    "type into the title text box to update the title of the plot.\n",
    "Use the ``bokeh serve`` command to run the example by executing:\n",
    "    bokeh serve sliders.py\n",
    "at your command prompt. Then navigate to the URL\n",
    "    http://localhost:5006/sliders\n",
    "in your browser.\n",
    "'''\n",
    "import numpy as np\n",
    "\n",
    "from bokeh.io import curdoc, show, output_notebook\n",
    "from bokeh.layouts import row, widgetbox, gridplot\n",
    "from bokeh.models import ColumnDataSource\n",
    "from bokeh.models.widgets import Slider, TextInput, Select, Panel, RadioButtonGroup\n",
    "from bokeh.plotting import figure\n",
    "from sklearn.datasets import make_biclusters, make_blobs, make_circles, make_moons\n",
    "from sklearn.cluster import SpectralClustering\n",
    "import pandas as pd\n",
    "\n",
    "\n",
    "\n",
    "# Set up data\n",
    "df, blob_y = make_blobs(n_samples=400, n_features=3, centers=4, cluster_std=1.4)\n",
    "#make_circles(n_samples=100, shuffle=True, noise=None, random_state=None, factor=0.8)\n",
    "\n",
    "\n",
    "# def map_colors(groups_list):\n",
    "#     new_group_list_as_color = []\n",
    "#     for group in groups_list:\n",
    "#         if group == 0:\n",
    "#             new_group_list_as_color.append('green')\n",
    "#         elif group == 1:\n",
    "#             new_group_list_as_color.append('blue')\n",
    "#         elif group == 2:\n",
    "#             new_group_list_as_color.append('green')\n",
    "#         elif group == 3:\n",
    "#             new_group_list_as_color.append('yellow')\n",
    "#         elif group == 4:\n",
    "#             new_group_list_as_color.append('black')\n",
    "#         elif group == 5:\n",
    "#             new_group_list_as_color.append('pink')\n",
    "#         elif group == 6:\n",
    "#             new_group_list_as_color.append('orange')\n",
    "#         elif group == 7:\n",
    "#             new_group_list_as_color.append('red')\n",
    "#     return new_group_list_as_color\n",
    "\n",
    "# def update_data(attrname, old, new):\n",
    "\n",
    "#     # Get the current slider values\n",
    "#     nn  = n_neighbors.value\n",
    "#     cl = n_clusters.value\n",
    "#     mi = max_iter.value\n",
    "#     #alg = algorithm.value\n",
    "\n",
    "#     sc = SpectralClustering(n_clusters=cl, n_neighbors=nn)\n",
    "#     pred_types = sc.fit_predict(df)\n",
    "#     pred_types = map_colors(pred_types)\n",
    "\n",
    "#     source.data['type'] = pred_types\n",
    "\n",
    "\n",
    "# sc = SpectralClustering(n_clusters=4)\n",
    "# pred_types = sc.fit_predict(df)\n",
    "# # km = KMeans(n_init=10, max_iter=300, n_clusters=4)\n",
    "# # pred_types = km.fit_predict(df)\n",
    "# pred_types = map_colors(pred_types)\n",
    "\n",
    "# df = pd.DataFrame(df,columns=['x','y','a'])\n",
    "# source = ColumnDataSource(data=dict(x = df['x'].values,\n",
    "# \t\t\t\t\t\t\t\t\ty = df['y'].values,\n",
    "# \t\t\t\t\t\t\t\t\ta = df['a'].values,\n",
    "# \t\t\t\t\t\t\t\t\ttype = pred_types))\n",
    "\n",
    "# # Set up plot\n",
    "\n",
    "# plot_kmean = figure(plot_height=400, plot_width=400,\n",
    "#  title=\"K - Mean Unsupervised Model\", tools=\"\")\n",
    "# plot_kmean.circle('x', 'y', source=source, size=4, color='type')\n",
    "# plot_kmean.xaxis.axis_label = 'X - Var'\n",
    "# plot_kmean.yaxis.axis_label = 'Y - Var'\n",
    "            \n",
    "\n",
    "\n",
    "# plot_kmean2 = figure(plot_height=400, plot_width=400,\n",
    "#  title=\"K - Mean Unsupervised Model\", tools=\"crosshair,pan,reset,save,wheel_zoom\")\n",
    "# plot_kmean2.circle('a', 'y', source=source, size=4, color='type')\n",
    "# plot_kmean2.xaxis.axis_label = 'A - Var'\n",
    "# plot_kmean2.yaxis.axis_label = 'Y - Var'\n",
    "    \n",
    "\n",
    "# plot_kmean3 = figure(plot_height=400, plot_width=400,\n",
    "#  title=\"K - Mean Unsupervised Model\", tools=\"crosshair,pan,reset,save,wheel_zoom\")\n",
    "# plot_kmean3.circle('x', 'a', source=source, size=4, color='type')\n",
    "# plot_kmean3.xaxis.axis_label = 'X - Var'\n",
    "# plot_kmean3.yaxis.axis_label = 'A - Var'\n",
    "    \n",
    "\n",
    "\n",
    "# # Set up widgets\n",
    "# # text = TextInput(title=\"title\", value='my sine wave')\n",
    "# # offset = Slider(title=\"offset\", value=0.0, start=-5.0, end=5.0, step=0.1)\n",
    "# n_neighbors     = Slider(title=\"n_neighbors\", value=10, start=1.0, end=40.0, step=1)\n",
    "# n_clusters      = Slider(title=\"n_clusters\", value=4, start=1, end=7, step=1)\n",
    "# max_iter        = Slider(title=\"max_iter\", value=300, start=10, end=900, step=1)\n",
    "# # p = Slider(title=\"p\", value=0.5, start=0.1, end=.9)\n",
    "\n",
    "# algorithm = Select(title=\"algorithm\", value=\"auto\", options=[\"auto\", \"full\", \"elkan\"])\n",
    "\n",
    "\n",
    "\n",
    "# # Set up callbacks\n",
    "# for w in [n_neighbors,n_clusters,max_iter]:\n",
    "#     w.on_change('value', update_data)\n",
    "\n",
    "\n",
    "# # Set up layouts and add to document\n",
    "\n",
    "# inputs_kmean = widgetbox([n_init,n_clusters,max_iter])\n",
    "\n",
    "# grid = gridplot([[plot_kmean, plot_kmean2], [plot_kmean3, inputs_kmean]], toolbar_location=None)\n",
    "# curdoc().add_root(grid)\n",
    "# curdoc().title = \"K - Means\"\n",
    "\n",
    "\n",
    "\n",
    "\n"
   ]
  },
  {
   "cell_type": "code",
   "execution_count": 23,
   "metadata": {
    "collapsed": false
   },
   "outputs": [],
   "source": [
    "radio_button_group = RadioButtonGroup(\n",
    "        labels=[\"nearest_neighbors\", \"precomputed\", \"rbf\"], active=0)\n"
   ]
  },
  {
   "cell_type": "code",
   "execution_count": 24,
   "metadata": {
    "collapsed": false
   },
   "outputs": [
    {
     "data": {
      "text/plain": [
       "0"
      ]
     },
     "execution_count": 24,
     "metadata": {},
     "output_type": "execute_result"
    }
   ],
   "source": [
    "radio_button_group.active"
   ]
  },
  {
   "cell_type": "code",
   "execution_count": 25,
   "metadata": {
    "collapsed": false
   },
   "outputs": [
    {
     "data": {
      "text/plain": [
       "sklearn.cluster.spectral.SpectralClustering"
      ]
     },
     "execution_count": 25,
     "metadata": {},
     "output_type": "execute_result"
    }
   ],
   "source": [
    "SpectralClustering()"
   ]
  },
  {
   "cell_type": "code",
   "execution_count": null,
   "metadata": {
    "collapsed": true
   },
   "outputs": [],
   "source": []
  }
 ],
 "metadata": {
  "anaconda-cloud": {},
  "kernelspec": {
   "display_name": "Python [dsi]",
   "language": "python",
   "name": "Python [dsi]"
  },
  "language_info": {
   "codemirror_mode": {
    "name": "ipython",
    "version": 2
   },
   "file_extension": ".py",
   "mimetype": "text/x-python",
   "name": "python",
   "nbconvert_exporter": "python",
   "pygments_lexer": "ipython2",
   "version": "2.7.12"
  }
 },
 "nbformat": 4,
 "nbformat_minor": 0
}
